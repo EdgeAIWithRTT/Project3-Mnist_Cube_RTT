{
 "cells": [
  {
   "cell_type": "markdown",
   "id": "868acfc3-1664-4a28-91a7-19b4db7968e1",
   "metadata": {},
   "source": [
    "> - Author: lebhoryi@gmail.com\n",
    "> - Date  : 2020/07/09\n",
    "> - File  : mnist with tensorflow 2 "
   ]
  },
  {
   "cell_type": "markdown",
   "id": "6905f6c0-ba3c-43be-abc9-15207a2a35fe",
   "metadata": {},
   "source": [
    "# Mnist 实验代码\n",
    "\n",
    "**实验步骤：**\n",
    "\n",
    "0. 环境搭建## 0. 环境搭建\n",
    "1. 准备数据集\n",
    "2. 构建模型\n",
    "3. 训练\n",
    "4. 模型预测\n",
    "5. 模型保存"
   ]
  },
  {
   "cell_type": "markdown",
   "id": "e15ffa17-865e-46f6-a18b-6b54ec987d6b",
   "metadata": {},
   "source": [
    "## 0. 环境搭建"
   ]
  },
  {
   "cell_type": "code",
   "execution_count": 1,
   "id": "655f2345-4dd7-4ad3-9701-41c6330c9310",
   "metadata": {},
   "outputs": [],
   "source": [
    "# !pip uninstall tensorflow -y\n",
    "# !pip install tensorflow"
   ]
  },
  {
   "cell_type": "code",
   "execution_count": 2,
   "id": "725d78bd-d8f6-4da9-839f-64225474df3b",
   "metadata": {},
   "outputs": [
    {
     "name": "stdout",
     "output_type": "stream",
     "text": [
      "The tensorflow version is : 2.5.0\n",
      "\n",
      "The numpy version is : 1.19.5\n"
     ]
    }
   ],
   "source": [
    "import os\n",
    "os.environ['TF_CPP_MIN_LOG_LEVEL'] = \"2\"\n",
    "os.environ[\"CUDA_VISIBLE_DEVICES\"] = \"0\"\n",
    "import cv2\n",
    "import tensorflow as tf\n",
    "import numpy as np\n",
    "from tensorflow.keras import models, layers, datasets, utils\n",
    "from pathlib import Path\n",
    "import matplotlib.pyplot as plt\n",
    "\n",
    "%matplotlib inline\n",
    "print(f\"The tensorflow version is : {tf.__version__}\\n\")\n",
    "print(f\"The numpy version is : {np.__version__}\")"
   ]
  },
  {
   "cell_type": "code",
   "execution_count": 3,
   "id": "60dc4c11-3490-4578-881b-b9a0fc95d5ae",
   "metadata": {},
   "outputs": [],
   "source": [
    "# 创建两个文件夹，存放数据和模型\n",
    "_list = ['data', 'model']\n",
    "\n",
    "# 赋值为 Path 对象\n",
    "dirs = list(map(lambda x: Path(x), _list))\n",
    "# 假如没有文件夹就创建\n",
    "for path in dirs:\n",
    "    if not path.exists():\n",
    "        path.mkdir()\n",
    "\n",
    "data_path, model_path = dirs"
   ]
  },
  {
   "cell_type": "markdown",
   "id": "a53eddbe-f9c1-44cb-8064-9753d9082a99",
   "metadata": {},
   "source": [
    "## 1. 准备数据集\n",
    "\n",
    "载入并准备好[ MNIST 数据集](http://yann.lecun.com/exdb/mnist/)。\n",
    "\n",
    "训练集包含60,000个示例图像，测试集包含10,000个示例图像"
   ]
  },
  {
   "cell_type": "code",
   "execution_count": 4,
   "id": "b3cfabb2-665d-4ee2-af76-100196b0502e",
   "metadata": {},
   "outputs": [
    {
     "name": "stdout",
     "output_type": "stream",
     "text": [
      "x_train shape : (60000, 28, 28)\n",
      "y_train shape : (60000,)\n"
     ]
    }
   ],
   "source": [
    "(x_train, y_train), (x_test, y_test) = datasets.mnist.load_data(data_path.resolve()/'mnist.npz')\n",
    "\n",
    "print(f\"x_train shape : {x_train.shape}\")\n",
    "print(f\"y_train shape : {y_train.shape}\")"
   ]
  },
  {
   "cell_type": "code",
   "execution_count": 5,
   "id": "bf89aac3-c8fe-4242-b513-e7e1a9cb3e71",
   "metadata": {},
   "outputs": [
    {
     "data": {
      "image/png": "[encoded data removed]",
      "text/plain": [
       "<Figure size 432x288 with 1 Axes>"
      ]
     },
     "metadata": {
      "needs_background": "light"
     },
     "output_type": "display_data"
    }
   ],
   "source": [
    "plt.imshow(x_train[0], cmap='gray')\n",
    "# plt.savefig('./image/tes_2.jpg')\n",
    "plt.show()"
   ]
  },
  {
   "cell_type": "code",
   "execution_count": 6,
   "id": "3731c153-130f-4bf2-b142-a39fe3783619",
   "metadata": {},
   "outputs": [
    {
     "name": "stdout",
     "output_type": "stream",
     "text": [
      "x_train shape : (60000, 28, 28)\n",
      "add dim x_train shape : (60000, 28, 28, 1)\n"
     ]
    }
   ],
   "source": [
    "# Normalize data，将图像的像素值都处理到[0,1]范围\n",
    "x_train, x_test = x_train / 255, x_test / 255\n",
    "print(f\"x_train shape : {x_train.shape}\")\n",
    "\n",
    "x_train, x_test = tf.expand_dims(x_train, -1), tf.expand_dims(x_test, -1)\n",
    "print(f\"add dim x_train shape : {x_train.shape}\")"
   ]
  },
  {
   "cell_type": "markdown",
   "id": "d03faef4-3bf0-4402-809b-db9a62c3d610",
   "metadata": {},
   "source": [
    "## 2. 搭建神经网络模型\n",
    "\n",
    "下面的是 tensorflow 官方例程，*此处不应用*\n",
    "\n",
    "```python\n",
    "# build network\n",
    "tf.keras.backend.clear_session()\n",
    "\n",
    "model = models.Sequential()\n",
    "model.add(layers.Flatten(input_shape=(28, 28, 1)))\n",
    "model.add(layers.Dense(128, activation='relu'))\n",
    "model.add(layers.Dropout(0.2))\n",
    "model.add(layers.Dense(10, activation='softmax'))\n",
    "\n",
    "model.summary()\n",
    "```\n"
   ]
  },
  {
   "cell_type": "code",
   "execution_count": 7,
   "id": "11b49291-f031-4c9b-abff-e427e0f098dc",
   "metadata": {},
   "outputs": [
    {
     "name": "stdout",
     "output_type": "stream",
     "text": [
      "Model: \"sequential\"\n",
      "_________________________________________________________________\n",
      "Layer (type)                 Output Shape              Param #   \n",
      "=================================================================\n",
      "conv1 (Conv2D)               (None, 26, 26, 4)         40        \n",
      "_________________________________________________________________\n",
      "pool1 (MaxPooling2D)         (None, 13, 13, 4)         0         \n",
      "_________________________________________________________________\n",
      "conv2 (Conv2D)               (None, 11, 11, 8)         296       \n",
      "_________________________________________________________________\n",
      "pool2 (MaxPooling2D)         (None, 5, 5, 8)           0         \n",
      "_________________________________________________________________\n",
      "flatten (Flatten)            (None, 200)               0         \n",
      "_________________________________________________________________\n",
      "FC1 (Dense)                  (None, 128)               25728     \n",
      "_________________________________________________________________\n",
      "FC2 (Dense)                  (None, 10)                1290      \n",
      "=================================================================\n",
      "Total params: 27,354\n",
      "Trainable params: 27,354\n",
      "Non-trainable params: 0\n",
      "_________________________________________________________________\n"
     ]
    }
   ],
   "source": [
    "# build network\n",
    "tf.keras.backend.clear_session()\n",
    "\n",
    "model = models.Sequential()\n",
    "# conv1\n",
    "model.add(layers.Conv2D(input_shape=(28, 28, 1), filters=4, \n",
    "    kernel_size=(3, 3), activation='relu', name='conv1'))\n",
    "model.add(layers.MaxPool2D(pool_size=(2,2), name='pool1'))\n",
    "\n",
    "# conv2\n",
    "model.add(layers.Conv2D(filters=8, kernel_size=(3, 3), \n",
    "                        activation='relu', name='conv2'))\n",
    "model.add(layers.MaxPool2D(pool_size=(2,2), name='pool2'))\n",
    "\n",
    "# flattern\n",
    "# model.add(layers.Dropout(rate=0.5, name='dropout'))\n",
    "model.add(layers.Flatten(name='flatten'))\n",
    "\n",
    "# FC1\n",
    "model.add(layers.Dense(128, activation='relu', name='FC1'))\n",
    "\n",
    "# FC2\n",
    "model.add(layers.Dense(10, activation='softmax', name=\"FC2\"))\n",
    "\n",
    "model.summary()"
   ]
  },
  {
   "cell_type": "code",
   "execution_count": 8,
   "id": "1be44928-922a-40fb-af91-2c6a2925e52c",
   "metadata": {},
   "outputs": [],
   "source": [
    "# # save model image\n",
    "# utils.plot_model(model, to_file='model.png', show_shapes=True,\n",
    "#         show_layer_names=True, rankdir='TB', dpi=100, expand_nested=True)\n",
    "\n",
    "# # save model txt\n",
    "# with open(model_path/'model.txt', 'wt') as fd:\n",
    "#     str_list = []\n",
    "#     model.summary(print_fn=lambda x:str_list.append(x))\n",
    "#     model_summary = '\\n'.join(str_list)\n",
    "#     fd.write(model_summary)"
   ]
  },
  {
   "cell_type": "markdown",
   "id": "e7d60972-0d8b-42ed-9c90-02aeac05b0c2",
   "metadata": {},
   "source": [
    "## 3. 训练\n",
    "\n",
    "### `compile()` 方法：指定损失、指标和优化器\n",
    "\n",
    "要使用 `fit()` 训练模型，您需要指定损失函数、优化器以及一些要监视的指标（可选）。\n",
    "\n",
    "将它们作为 `compile()` 方法的参数传递给模型："
   ]
  },
  {
   "cell_type": "code",
   "execution_count": 9,
   "id": "92036e53-937e-49bb-a061-12a527f057fe",
   "metadata": {},
   "outputs": [
    {
     "name": "stdout",
     "output_type": "stream",
     "text": [
      "Epoch 1/3\n",
      "469/469 [==============================] - 4s 7ms/step - loss: 0.4339 - accuracy: 0.8793\n",
      "Epoch 2/3\n",
      "469/469 [==============================] - 4s 8ms/step - loss: 0.1275 - accuracy: 0.9619\n",
      "Epoch 3/3\n",
      "469/469 [==============================] - 4s 8ms/step - loss: 0.0960 - accuracy: 0.9707\n"
     ]
    }
   ],
   "source": [
    "model.compile(optimizer='adam',\n",
    "             loss='sparse_categorical_crossentropy',\n",
    "             metrics=['accuracy',])\n",
    "history = model.fit(x_train, y_train, batch_size=128, epochs=3)"
   ]
  },
  {
   "cell_type": "code",
   "execution_count": 10,
   "id": "d4ba4b3b-6ea0-45fb-9057-e1d82a576130",
   "metadata": {},
   "outputs": [
    {
     "data": {
      "text/plain": [
       "{'loss': [0.4338635206222534, 0.1275392323732376, 0.09597313404083252],\n",
       " 'accuracy': [0.8792833089828491, 0.9619333148002625, 0.9706666469573975]}"
      ]
     },
     "execution_count": 10,
     "metadata": {},
     "output_type": "execute_result"
    }
   ],
   "source": [
    "# 返回的“历史”对象保留训练期间的损失值和指标值记录\n",
    "history.history"
   ]
  },
  {
   "cell_type": "code",
   "execution_count": 11,
   "id": "d33f272f-ef67-488e-8c25-7c66e459a47b",
   "metadata": {},
   "outputs": [
    {
     "name": "stdout",
     "output_type": "stream",
     "text": [
      "Evaluate on test data\n",
      "313/313 [==============================] - 1s 2ms/step - loss: 0.0717 - accuracy: 0.9787\n",
      "test loss, test acc: [0.07172499597072601, 0.9786999821662903]\n"
     ]
    }
   ],
   "source": [
    "# Evaluate the model on the test data using `evaluate`\n",
    "print(\"Evaluate on test data\")\n",
    "results = model.evaluate(x_test, y_test, batch_size=32)\n",
    "print(\"test loss, test acc:\", results)"
   ]
  },
  {
   "cell_type": "code",
   "execution_count": 12,
   "id": "dd2ae707-4c34-4798-bbcb-949e8efee111",
   "metadata": {},
   "outputs": [
    {
     "data": {
      "image/png": "[encoded data removed]",
      "text/plain": [
       "<Figure size 432x288 with 1 Axes>"
      ]
     },
     "metadata": {
      "needs_background": "light"
     },
     "output_type": "display_data"
    },
    {
     "data": {
      "image/png": "[encoded data removed]",
      "text/plain": [
       "<Figure size 432x288 with 1 Axes>"
      ]
     },
     "metadata": {
      "needs_background": "light"
     },
     "output_type": "display_data"
    }
   ],
   "source": [
    "def plot_metric(history, metric):\n",
    "    train_metrics = history.history[metric]\n",
    "    epochs =range(1, len(train_metrics) + 1)\n",
    "    plt.plot(epochs, train_metrics, 'ro--')\n",
    "    # 相关属性\n",
    "    plt.title('Training ' + metric)\n",
    "    plt.xlabel('Epochs')\n",
    "    plt.ylabel(metric)\n",
    "    plt.legend(['train_'+metric])\n",
    "    plt.show()\n",
    "    \n",
    "plot_metric(history, 'loss')\n",
    "plot_metric(history, 'accuracy')"
   ]
  },
  {
   "cell_type": "markdown",
   "id": "1a5694f0-1786-4a44-8315-cf4decd5f786",
   "metadata": {},
   "source": [
    "## 4. 模型预测\n",
    "\n",
    "验证 model 是否成功训练，用 test 数据集进行推理"
   ]
  },
  {
   "cell_type": "code",
   "execution_count": 13,
   "id": "33493ee6-4c53-4e66-93c8-b576c9bfadfa",
   "metadata": {
    "collapsed": true,
    "jupyter": {
     "outputs_hidden": true
    },
    "tags": []
   },
   "outputs": [
    {
     "name": "stdout",
     "output_type": "stream",
     "text": [
      "[[9.9996626e-01 1.4769049e-11 9.2003684e-06 1.7467864e-08 4.9978299e-11\n",
      "  2.7343510e-06 1.8248045e-05 2.1739025e-08 3.5199512e-06 4.2335028e-08]]\n"
     ]
    },
    {
     "data": {
      "image/png": "[encoded data removed]",
      "text/plain": [
       "<Figure size 432x288 with 1 Axes>"
      ]
     },
     "metadata": {
      "needs_background": "light"
     },
     "output_type": "display_data"
    },
    {
     "name": "stdout",
     "output_type": "stream",
     "text": [
      "predict : 0\n",
      "[[2.8009330e-05 4.5321844e-11 9.7381196e-09 5.0684776e-09 4.5673523e-09\n",
      "  5.0383019e-08 9.9996769e-01 2.1316653e-10 4.2623492e-06 8.4890415e-09]]\n"
     ]
    },
    {
     "data": {
      "image/png": "[encoded data removed]",
      "text/plain": [
       "<Figure size 432x288 with 1 Axes>"
      ]
     },
     "metadata": {
      "needs_background": "light"
     },
     "output_type": "display_data"
    },
    {
     "name": "stdout",
     "output_type": "stream",
     "text": [
      "predict : 6\n",
      "[[2.53224091e-08 1.67729636e-10 4.67048302e-08 6.03133549e-06\n",
      "  1.08222244e-04 5.97665121e-07 8.42579562e-10 1.19678283e-04\n",
      "  2.74235281e-05 9.99737918e-01]]\n"
     ]
    },
    {
     "data": {
      "image/png": "[encoded data removed]",
      "text/plain": [
       "<Figure size 432x288 with 1 Axes>"
      ]
     },
     "metadata": {
      "needs_background": "light"
     },
     "output_type": "display_data"
    },
    {
     "name": "stdout",
     "output_type": "stream",
     "text": [
      "predict : 9\n",
      "[[9.9971586e-01 4.3643675e-10 4.7211092e-06 1.1431029e-07 2.3265642e-08\n",
      "  2.4527574e-06 1.4930686e-05 1.4385853e-05 1.8678057e-04 6.0687777e-05]]\n"
     ]
    },
    {
     "data": {
      "image/png": "[encoded data removed]",
      "text/plain": [
       "<Figure size 432x288 with 1 Axes>"
      ]
     },
     "metadata": {
      "needs_background": "light"
     },
     "output_type": "display_data"
    },
    {
     "name": "stdout",
     "output_type": "stream",
     "text": [
      "predict : 0\n",
      "[[2.1558282e-05 9.9960190e-01 2.8774313e-05 4.3574975e-05 2.0877575e-05\n",
      "  2.0334926e-05 7.4523581e-05 1.2441087e-06 1.8609168e-04 1.0795652e-06]]\n"
     ]
    },
    {
     "data": {
      "image/png": "[encoded data removed]",
      "text/plain": [
       "<Figure size 432x288 with 1 Axes>"
      ]
     },
     "metadata": {
      "needs_background": "light"
     },
     "output_type": "display_data"
    },
    {
     "name": "stdout",
     "output_type": "stream",
     "text": [
      "predict : 1\n",
      "[[1.8830853e-07 5.0542988e-09 4.4923738e-07 2.3900621e-04 4.2977538e-11\n",
      "  9.9975652e-01 4.5916124e-08 7.4222353e-09 3.5669498e-06 2.3079153e-07]]\n"
     ]
    },
    {
     "data": {
      "image/png": "[encoded data removed]",
      "text/plain": [
       "<Figure size 432x288 with 1 Axes>"
      ]
     },
     "metadata": {
      "needs_background": "light"
     },
     "output_type": "display_data"
    },
    {
     "name": "stdout",
     "output_type": "stream",
     "text": [
      "predict : 5\n"
     ]
    }
   ],
   "source": [
    "for img in x_test[10:16]:\n",
    "    y = model.predict(tf.expand_dims(img, axis=0))\n",
    "    print(y)\n",
    "    # 获取概率最高的元素的索引\n",
    "    p = np.argmax(y)\n",
    "    plt.imshow(img[:, :, 0], cmap=\"gray\")\n",
    "    plt.show()\n",
    "    print(f\"predict : {p}\")"
   ]
  },
  {
   "cell_type": "markdown",
   "id": "e1175af7-0700-43c6-a569-c5e2fe8e8282",
   "metadata": {},
   "source": [
    "## 5. 模型保存"
   ]
  },
  {
   "cell_type": "code",
   "execution_count": 14,
   "id": "fbde3202-b813-4f2b-ab41-c2ecf7839077",
   "metadata": {},
   "outputs": [
    {
     "name": "stdout",
     "output_type": "stream",
     "text": [
      "test2.h5\n"
     ]
    }
   ],
   "source": [
    "keras_file = 'test2.h5'\n",
    "print(keras_file)\n",
    "model.save(keras_file, save_format=\"h5\")"
   ]
  },
  {
   "cell_type": "code",
   "execution_count": 15,
   "id": "954b12c8-1292-4ff2-94d7-7a6db2b7b51c",
   "metadata": {},
   "outputs": [
    {
     "name": "stdout",
     "output_type": "stream",
     "text": [
      "313/313 [==============================] - 1s 2ms/step - loss: 0.0717 - accuracy: 0.9787\n"
     ]
    }
   ],
   "source": [
    "loss, acc = model.evaluate(x_test, y_test, batch_size=32)"
   ]
  },
  {
   "cell_type": "markdown",
   "id": "524baa4d-e6e1-4f5a-816f-e5be677c53eb",
   "metadata": {},
   "source": [
    "## 6. 加载保存的模型并预测"
   ]
  },
  {
   "cell_type": "code",
   "execution_count": 16,
   "id": "67031697-3ba7-4ea5-a369-dd7b3a6ec8ae",
   "metadata": {},
   "outputs": [],
   "source": [
    "# load model and test\n",
    "model_restore = models.load_model(keras_file)\n",
    "\n",
    "np.testing.assert_allclose(model.predict(x_test), model_restore.predict(x_test))"
   ]
  },
  {
   "cell_type": "code",
   "execution_count": 17,
   "id": "612dbf94-6e31-4039-b74e-0d7ee951b6e0",
   "metadata": {
    "tags": []
   },
   "outputs": [],
   "source": [
    "# model_restore.summary()"
   ]
  },
  {
   "cell_type": "code",
   "execution_count": 18,
   "id": "18f6ad2c-1600-4891-bca5-3511d2e61c1f",
   "metadata": {
    "collapsed": true,
    "jupyter": {
     "outputs_hidden": true
    },
    "tags": []
   },
   "outputs": [
    {
     "name": "stdout",
     "output_type": "stream",
     "text": [
      "[[1.7815743e-06 5.8743328e-08 5.6611381e-05 5.9076319e-06 4.9270588e-09\n",
      "  2.5537425e-08 4.5907995e-12 9.9992859e-01 4.9047429e-07 6.4322921e-06]]\n"
     ]
    },
    {
     "data": {
      "image/png": "[encoded data removed]",
      "text/plain": [
       "<Figure size 432x288 with 1 Axes>"
      ]
     },
     "metadata": {
      "needs_background": "light"
     },
     "output_type": "display_data"
    },
    {
     "name": "stdout",
     "output_type": "stream",
     "text": [
      "predict : 7\n",
      "[[7.8274781e-04 1.4364454e-03 9.9738222e-01 3.2859275e-04 7.9750273e-10\n",
      "  1.5498598e-07 3.2389336e-05 2.5114938e-10 3.7591675e-05 3.4011870e-11]]\n"
     ]
    },
    {
     "data": {
      "image/png": "[encoded data removed]",
      "text/plain": [
       "<Figure size 432x288 with 1 Axes>"
      ]
     },
     "metadata": {
      "needs_background": "light"
     },
     "output_type": "display_data"
    },
    {
     "name": "stdout",
     "output_type": "stream",
     "text": [
      "predict : 2\n",
      "[[1.22010868e-04 9.95616794e-01 2.75858998e-04 6.49976064e-05\n",
      "  1.90997683e-03 3.23441891e-05 3.16414167e-04 1.11846987e-03\n",
      "  4.24655678e-04 1.18456206e-04]]\n"
     ]
    },
    {
     "data": {
      "image/png": "[encoded data removed]",
      "text/plain": [
       "<Figure size 432x288 with 1 Axes>"
      ]
     },
     "metadata": {
      "needs_background": "light"
     },
     "output_type": "display_data"
    },
    {
     "name": "stdout",
     "output_type": "stream",
     "text": [
      "predict : 1\n",
      "[[9.9830401e-01 1.1025204e-08 3.5028494e-05 9.7914466e-08 1.0304360e-07\n",
      "  8.7311338e-07 1.6498286e-03 3.9817919e-06 3.2841217e-06 2.6822067e-06]]\n"
     ]
    },
    {
     "data": {
      "image/png": "[encoded data removed]",
      "text/plain": [
       "<Figure size 432x288 with 1 Axes>"
      ]
     },
     "metadata": {
      "needs_background": "light"
     },
     "output_type": "display_data"
    },
    {
     "name": "stdout",
     "output_type": "stream",
     "text": [
      "predict : 0\n",
      "[[5.9993913e-06 2.1169595e-09 9.7252996e-07 6.9156720e-09 9.9992442e-01\n",
      "  2.1930349e-08 2.7742769e-06 1.0492582e-05 4.8085496e-07 5.4909706e-05]]\n"
     ]
    },
    {
     "data": {
      "image/png": "[encoded data removed]",
      "text/plain": [
       "<Figure size 432x288 with 1 Axes>"
      ]
     },
     "metadata": {
      "needs_background": "light"
     },
     "output_type": "display_data"
    },
    {
     "name": "stdout",
     "output_type": "stream",
     "text": [
      "predict : 4\n",
      "done\n"
     ]
    }
   ],
   "source": [
    "for test_image in x_test[:5]:\n",
    "    y = model_restore.predict(tf.expand_dims(test_image, axis=0))\n",
    "    #  获取概率最高的元素的索引\n",
    "    print(y)\n",
    "    p = np.argmax(y)\n",
    "    plt.imshow(test_image[:, :, 0], cmap=\"gray\")\n",
    "    plt.show()\n",
    "    print(f\"predict : {p}\")\n",
    "\n",
    "    test_out = model.predict(tf.expand_dims(test_image, axis=0))\n",
    "    if not (test_out == y).all():\n",
    "        print(\"err\")\n",
    "print(\"done\")"
   ]
  }
 ],
 "metadata": {
  "kernelspec": {
   "display_name": "Python 3",
   "language": "python",
   "name": "python3"
  },
  "language_info": {
   "codemirror_mode": {
    "name": "ipython",
    "version": 3
   },
   "file_extension": ".py",
   "mimetype": "text/x-python",
   "name": "python",
   "nbconvert_exporter": "python",
   "pygments_lexer": "ipython3",
   "version": "3.7.9"
  }
 },
 "nbformat": 4,
 "nbformat_minor": 5
}
